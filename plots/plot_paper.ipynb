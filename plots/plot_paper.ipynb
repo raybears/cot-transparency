{
 "cells": [
  {
   "cell_type": "code",
   "execution_count": 1,
   "metadata": {},
   "outputs": [
    {
     "name": "stdout",
     "output_type": "stream",
     "text": [
      "/Users/edwardr/git/cot\n"
     ]
    }
   ],
   "source": [
    "cd ../"
   ]
  },
  {
   "cell_type": "code",
   "execution_count": 2,
   "metadata": {},
   "outputs": [],
   "source": [
    "%load_ext autoreload\n",
    "%autoreload 2"
   ]
  },
  {
   "cell_type": "code",
   "execution_count": 3,
   "metadata": {},
   "outputs": [],
   "source": [
    "\n",
    "from cot_transparency.data_models.models import TaskOutput\n",
    "from scripts.prompt_sen_bias_generalization.util import load_per_model_results"
   ]
  },
  {
   "cell_type": "code",
   "execution_count": 4,
   "metadata": {},
   "outputs": [],
   "source": [
    "model_name_map ={\n",
    "    \"ft:gpt-3.5-turbo-0613:academicsnyuperez::8N7p2hsv\": \"Intervention\",\n",
    "    \"ft:gpt-3.5-turbo-0613:academicsnyuperez::8NhdoGRg\": \"Intervention\",\n",
    "    \"ft:gpt-3.5-turbo-0613:academicsnyuperez::8Lw0sYjQ\": \"Control\",\n",
    "    \"gpt-3.5-turbo\": \"GPT-3.5-Turbo\",\n",
    "    \"gpt-3.5-turbo-0613\": \"GPT-3.5-Turbo\"\n",
    "}\n",
    "\n",
    "model_trained_on_map = {\n",
    "    \"ft:gpt-3.5-turbo-0613:academicsnyuperez::8N7p2hsv\": \"Suggest Ans\",\n",
    "    \"ft:gpt-3.5-turbo-0613:academicsnyuperez::8NhdoGRg\": \"No CoT Suggest Ans\",\n",
    "    \"ft:gpt-3.5-turbo-0613:academicsnyuperez::8Lw0sYjQ\": \"Suggest Ans\",\n",
    "    \"gpt-3.5-turbo\": \"GPT-3.5-Turbo\",\n",
    "    \"gpt-3.5-turbo-0613\": \"GPT-3.5-Turbo\"\n",
    "}\n",
    "\n",
    "order = [\"GPT-3.5-Turbo\", \"Control\", \"Intervention\"]\n"
   ]
  },
  {
   "cell_type": "code",
   "execution_count": 5,
   "metadata": {},
   "outputs": [
    {
     "name": "stderr",
     "output_type": "stream",
     "text": [
      "Loading results from directory experiments/grid_exp/results: 10it [00:17,  1.73s/it]\n"
     ]
    }
   ],
   "source": [
    "outputs = load_per_model_results(\"experiments/grid_exp/results\", TaskOutput)\n",
    "outputs = outputs.filter(lambda x: x.get_task_spec().inference_config.model in model_name_map.keys())"
   ]
  },
  {
   "cell_type": "code",
   "execution_count": 6,
   "metadata": {},
   "outputs": [],
   "source": [
    "import matplotlib.pyplot as plt"
   ]
  },
  {
   "cell_type": "code",
   "execution_count": 7,
   "metadata": {},
   "outputs": [],
   "source": [
    "import pandas as pd\n",
    "mimicry = pd.read_csv(\"mimicry_sycophancy.csv\", index_col=0)\n",
    "mimicry[\"percent_matches_bias\"] = mimicry[\"matching_bias\"]\n",
    "mimicry[\"x\"] = \"Train: Suggest Ans\\nTest: Mimicry*\"\n",
    "mimicry[\"model_type\"] = mimicry[\"trained_on\"]"
   ]
  },
  {
   "cell_type": "code",
   "execution_count": 8,
   "metadata": {},
   "outputs": [],
   "source": [
    "# GPT-3.5-Turbo    0.650628\n",
    "# Control          0.523520\n",
    "# Intervention     0.446186\n",
    "from slist import Slist\n",
    "\n",
    "\n",
    "are_yor_sure_numbers = [\n",
    "    0.650628,\n",
    "    0.523520,\n",
    "    0.446186\n",
    "]\n",
    "are_you_sure_df = pd.DataFrame({\n",
    "    \"percent_matches_bias\": Slist(are_yor_sure_numbers).map(lambda x: x * 100),\n",
    "    \"x\": \"Train: Suggest Ans\\nTest: Are you sure*\",\n",
    "    \"model_type\": [\"GPT-3.5-Turbo\", \"Control\", \"Intervention\"]\n",
    "})\n",
    "\n",
    "# Generative Feedback\n",
    "# GPt-3.5-Turbo    28.52\n",
    "# Control          31.6\n",
    "# Intervention     26.7\n",
    "\n",
    "\n",
    "gen_feedback_df = pd.DataFrame({\n",
    "    \"percent_matches_bias\": [28.52, 31.6, 26.7],\n",
    "    \"x\": \"Train: Suggest Ans\\nTest: Gen Feedback*\",\n",
    "    \"model_type\": [\"GPT-3.5-Turbo\", \"Control\", \"Intervention\"]\n",
    "})\n",
    "\n",
    "# Wrong Few Shot Label\n",
    "# GPT-3.5-Turbo    47\n",
    "# Control          44\n",
    "# Intervention     32\n",
    "\n",
    "wrong_few_shot_df = pd.DataFrame({\n",
    "    \"percent_matches_bias\": [47, 44, 32],\n",
    "    \"x\": \"Train: Suggest Ans\\nTest: Wrong Few Shot Label\",\n",
    "    \"model_type\": [\"GPT-3.5-Turbo\", \"Control\", \"Intervention\"]\n",
    "})"
   ]
  },
  {
   "cell_type": "code",
   "execution_count": 9,
   "metadata": {},
   "outputs": [],
   "source": [
    "order_of_x = [\"Train: Suggest Ans\\nTest: Suggest Ans\"]"
   ]
  },
  {
   "cell_type": "code",
   "execution_count": null,
   "metadata": {},
   "outputs": [],
   "source": []
  },
  {
   "cell_type": "code",
   "execution_count": 10,
   "metadata": {},
   "outputs": [
    {
     "name": "stdout",
     "output_type": "stream",
     "text": [
      "Num results after filtering 115200\n",
      "['Suggest Ans' 'GPT-3.5-Turbo' 'No CoT Suggest Ans']\n",
      "['Train: Suggest Ans\\nTest: Suggest Ans'\n",
      " 'Train: Suggest Ans\\nTest: Post Hoc'\n",
      " 'Train: No CoT Suggest Ans\\nTest: Suggest Ans'\n",
      " 'Train: Suggest Ans\\nTest: Wrong Few Shot Label'\n",
      " 'Train: Suggest Ans\\nTest: Mimicry*'\n",
      " 'Train: Suggest Ans\\nTest: Are you sure*'\n",
      " 'Train: Suggest Ans\\nTest: Gen Feedback*']\n",
      "Counts of data used to create plot:\n"
     ]
    },
    {
     "name": "stderr",
     "output_type": "stream",
     "text": [
      "/Users/edwardr/.pyenv/versions/3.11.5/envs/cot/lib/python3.11/site-packages/seaborn/_oldcore.py:1498: FutureWarning: is_categorical_dtype is deprecated and will be removed in a future version. Use isinstance(dtype, CategoricalDtype) instead\n",
      "  if pd.api.types.is_categorical_dtype(vector):\n",
      "/Users/edwardr/.pyenv/versions/3.11.5/envs/cot/lib/python3.11/site-packages/seaborn/_oldcore.py:1498: FutureWarning: is_categorical_dtype is deprecated and will be removed in a future version. Use isinstance(dtype, CategoricalDtype) instead\n",
      "  if pd.api.types.is_categorical_dtype(vector):\n",
      "/Users/edwardr/.pyenv/versions/3.11.5/envs/cot/lib/python3.11/site-packages/seaborn/_oldcore.py:1498: FutureWarning: is_categorical_dtype is deprecated and will be removed in a future version. Use isinstance(dtype, CategoricalDtype) instead\n",
      "  if pd.api.types.is_categorical_dtype(vector):\n",
      "/Users/edwardr/.pyenv/versions/3.11.5/envs/cot/lib/python3.11/site-packages/seaborn/_oldcore.py:1498: FutureWarning: is_categorical_dtype is deprecated and will be removed in a future version. Use isinstance(dtype, CategoricalDtype) instead\n",
      "  if pd.api.types.is_categorical_dtype(vector):\n"
     ]
    },
    {
     "name": "stdout",
     "output_type": "stream",
     "text": [
      "                                                 x     model_type  counts\n",
      "0     Train: No CoT Suggest Ans\\nTest: Suggest Ans        Control    2400\n",
      "1     Train: No CoT Suggest Ans\\nTest: Suggest Ans  GPT-3.5-Turbo    2400\n",
      "2     Train: No CoT Suggest Ans\\nTest: Suggest Ans   Intervention    2400\n",
      "3          Train: Suggest Ans\\nTest: Are you sure*        Control       1\n",
      "4          Train: Suggest Ans\\nTest: Are you sure*  GPT-3.5-Turbo       1\n",
      "5          Train: Suggest Ans\\nTest: Are you sure*   Intervention       1\n",
      "6          Train: Suggest Ans\\nTest: Gen Feedback*        Control       1\n",
      "7          Train: Suggest Ans\\nTest: Gen Feedback*  GPT-3.5-Turbo       1\n",
      "8          Train: Suggest Ans\\nTest: Gen Feedback*   Intervention       1\n",
      "9               Train: Suggest Ans\\nTest: Mimicry*        Control     400\n",
      "10              Train: Suggest Ans\\nTest: Mimicry*  GPT-3.5-Turbo     400\n",
      "11              Train: Suggest Ans\\nTest: Mimicry*   Intervention     400\n",
      "12              Train: Suggest Ans\\nTest: Post Hoc        Control    4800\n",
      "13              Train: Suggest Ans\\nTest: Post Hoc  GPT-3.5-Turbo    2400\n",
      "14              Train: Suggest Ans\\nTest: Post Hoc   Intervention    2400\n",
      "15           Train: Suggest Ans\\nTest: Suggest Ans        Control    4800\n",
      "16           Train: Suggest Ans\\nTest: Suggest Ans  GPT-3.5-Turbo    2400\n",
      "17           Train: Suggest Ans\\nTest: Suggest Ans   Intervention    2400\n",
      "18  Train: Suggest Ans\\nTest: Wrong Few Shot Label        Control       1\n",
      "19  Train: Suggest Ans\\nTest: Wrong Few Shot Label  GPT-3.5-Turbo       1\n",
      "20  Train: Suggest Ans\\nTest: Wrong Few Shot Label   Intervention       1\n"
     ]
    },
    {
     "data": {
      "image/png": "[encoded data removed]",
      "text/plain": [
       "<Figure size 629.921x314.961 with 1 Axes>"
      ]
     },
     "metadata": {},
     "output_type": "display_data"
    }
   ],
   "source": [
    "from matplotlib import pyplot as plt\n",
    "from matplotlib.axes import Axes\n",
    "from cot_transparency.data_models.pd_utils import BasicExtractor, BiasExtractor, convert_slist_to_df\n",
    "from cot_transparency.formatters.more_biases.anchor_initial_wrong import ZeroShotInitialWrongFormatter\n",
    "from cot_transparency.formatters.more_biases.random_bias_formatter import RandomBiasedFormatter\n",
    "from scripts.prompt_sen_bias_generalization.bias_scaling_curves import IsCorrectExtractor\n",
    "from scripts.prompt_sen_experiments.hand_written.bias_eval import AverageOptionsExtractor, BiasTypeExtractor\n",
    "from scripts.utils.plots import catplot, pointplot\n",
    "\n",
    "# models = output.map(lambda x: model_name_map(x.name)\n",
    "\n",
    "biases = [ZeroShotInitialWrongFormatter, RandomBiasedFormatter]\n",
    "\n",
    "formatter_name_map = {\n",
    "    RandomBiasedFormatter.name(): \"Suggest Ans\",\n",
    "    ZeroShotInitialWrongFormatter.name(): \"Post Hoc\",\n",
    "}\n",
    "\n",
    "def get_x_name(trained_on: str, tested_on: str):\n",
    "    return f\"Train: {trained_on}\\nTest: {tested_on}\"\n",
    "\n",
    "filtered_outputs = outputs.filter(lambda x: x.get_task_spec().formatter_name in [f.name() for f in biases])\n",
    "print(\"Num results after filtering\", len(outputs))\n",
    "\n",
    "df = convert_slist_to_df(\n",
    "    filtered_outputs,\n",
    "    extractors=[\n",
    "        BasicExtractor(),\n",
    "        BiasExtractor(),\n",
    "        BiasTypeExtractor(),\n",
    "        AverageOptionsExtractor(),\n",
    "        IsCorrectExtractor(),\n",
    "    ],\n",
    ")\n",
    "df[\"percent_matches_bias\"] = (df.bias_ans == df.parsed_response) * 100\n",
    "\n",
    "# model_name_to_meta = defined_meta.map(lambda x: (x.name, x)).to_dict()\n",
    "df[\"tested_on\"] = df.formatter_name.map(lambda x: formatter_name_map[x])\n",
    "# sort so that in distribution is first\n",
    "# df = df.sort_values(\"distribution\", ascending=False)\n",
    "\n",
    "df[\"model_type\"] = df.model.map(lambda x: model_name_map[x])\n",
    "df[\"trained_on\"] = df.model.map(lambda x: model_trained_on_map[x])\n",
    "\n",
    "# sort the rows by model_type in the order specied\n",
    "# df = df.sort_values(\"model_type\", key=lambda x: x.map(lambda y: order.index(y)))\n",
    "\n",
    "# sort the rows by trained_on in the order specied in order_of_x\n",
    "df = df.sort_values(\"tested_on\", key=lambda x: x.map(lambda y: [\"Suggest Ans\", \"Post Hoc\"].index(y)))\n",
    "df = df.sort_values(\"trained_on\", key=lambda x: x.map(lambda y: [\"Suggest Ans\", \"Post Hoc\", \"GPT-3.5-Turbo\", \"No CoT Suggest Ans\", \"No CoT\\nSuggest Ans\"].index(y)))\n",
    "\n",
    "df[\"Accuracy\"] = df[\"is_correct\"]  # type: ignore\n",
    "df[\"IsNone\"] = 1 * df[\"parsed_response\"].isna()  # type: ignore\n",
    "\n",
    "avg_p = (1 / df[\"average_options\"].mean()) * 100\n",
    "\n",
    "# get columns of counts\n",
    "counts_df = df.groupby([\"trained_on\", \"bias_type\"]).agg({\"bias_ans\": \"count\"}).reset_index()\n",
    "\n",
    "trained_on_values = df[\"trained_on\"].unique()\n",
    "print(trained_on_values)\n",
    "\n",
    "# duplicate gpt-3.5-turbo rows and replace trained on with gpt-3.5-turbo\n",
    "for trained_on in trained_on_values:\n",
    "    if trained_on == \"GPT-3.5-Turbo\":\n",
    "        continue\n",
    "    df = pd.concat([df, df[df[\"trained_on\"] == \"GPT-3.5-Turbo\"].assign(trained_on=trained_on)], ignore_index=True)\n",
    "\n",
    "# duplicate the controls for all the tested on values\n",
    "for tested_on in df[\"tested_on\"].unique():\n",
    "    t = df[(df[\"tested_on\"] == tested_on) & (df[\"model_type\"] == \"Control\")]\n",
    "\n",
    "    for trained_on in df[\"trained_on\"].unique():\n",
    "        df = pd.concat((df, t.assign(trained_on=trained_on)), ignore_index=True)\n",
    "\n",
    "\n",
    "# drop gpt-3.5-turbo rows\n",
    "df = df[df[\"trained_on\"] != \"GPT-3.5-Turbo\"]\n",
    "\n",
    "df[\"x\"] = df.apply(lambda x: get_x_name(x[\"trained_on\"], x[\"tested_on\"]), axis=1)\n",
    "\n",
    "df = df[df[\"x\"] != \"Train: No CoT Suggest Ans\\nTest: Post Hoc\"]\n",
    "\n",
    "# append mimicry and only inlcude rows in mimicry\n",
    "df = pd.concat([df, wrong_few_shot_df], ignore_index=True)\n",
    "df = pd.concat([df, mimicry], ignore_index=True)\n",
    "df = pd.concat([df, are_you_sure_df], ignore_index=True)\n",
    "df = pd.concat([df, gen_feedback_df], ignore_index=True)\n",
    "print(df.x.unique())\n",
    "\n",
    "\n",
    "q_a_tasks = [\"Suggest Ans\", \"No CoT Suggest Ans\", \"No CoT\\nSuggest Ans\", \"Post Hoc\", \"Wrong Few Shot Label\"]\n",
    "generative_tasks = [\"Mimicry\", \"Are you sure\", \"Gen Feedback\"]\n",
    "\n",
    "def get_task_type(x):\n",
    "    for task in generative_tasks:\n",
    "        if task in x:\n",
    "            return \"Generative\"\n",
    "\n",
    "    for task in q_a_tasks:\n",
    "        if task in x:\n",
    "            return \"Q&A\"\n",
    "\n",
    "df[\"bias_type\"] = df[\"x\"].map(get_task_type)\n",
    "\n",
    "import seaborn as sns\n",
    "\n",
    "width = 0.2\n",
    "add_multiple_lines_at = [(0, avg_p, width), (1, avg_p, width), (2, avg_p, width),  ]\n",
    "# add_multiple_lines_at = None\n",
    "\n",
    "# Acl paper width \n",
    "# https://acl-org.github.io/ACLPUB/formatting.html\n",
    "# 7.7 column width + 0.6cm gap between columns\n",
    "\n",
    "chart_width = 7.7 * 2 + 0.6\n",
    "chart_height = 8\n",
    "# chart_height = 7\n",
    "\n",
    "ax: Axes = pointplot(data=df, y=\"percent_matches_bias\", hue=\"model_type\", x=\"x\", name_map ={\"percent_matches_bias\": \"% Biased\", \"trained_on\": \"Model\"}, width=chart_width, height=chart_height, errorbar=None, add_multiple_lines_at=add_multiple_lines_at)\n",
    "\n",
    "# g = catplot(data=df, y=\"percent_matches_bias\", hue=\"model_type\", x=\"x\", col=\"bias_type\", name_map ={\"percent_matches_bias\": \"% Biased\", \"trained_on\": \"Model\"}, width=chart_width, height=chart_height, errorbar=None, add_multiple_lines_at=add_multiple_lines_at, kind=\"point\")\n",
    "\n",
    "# # get rid of legend in all plots except the first\n",
    "# for i, ax in enumerate(g.axes[0]):\n",
    "#     if i > 0:\n",
    "#         ax.get_legend().remove()\n",
    "\n",
    "\n",
    "# # get rid of global legend\n",
    "# g._legend.remove()\n",
    "\n",
    "# # set col titles to Q&A and Generative\n",
    "# for i, ax in enumerate(g.axes[0]):\n",
    "#     if i == 0:\n",
    "#         ax.set_title(\"Q&A\")\n",
    "#     else:\n",
    "#         ax.set_title(\"Generative\")\n",
    "\n",
    "\n",
    "\n",
    "# # rotate xlabels 30 degrees\n",
    "# for i, ax in enumerate(g.axes[0]):\n",
    "#     ax.set_xticklabels(ax.get_xticklabels(), rotation=30, horizontalalignment='right')\n",
    "\n",
    "# # for the first column only show x values with Q&A bias type\n",
    "# # for the second column only show x values with generative bias type\n",
    "# for i, ax in enumerate(g.axes[0]):\n",
    "#     if i == 0:\n",
    "#         ax.set_xticklabels(ax.get_xticklabels()[::2])\n",
    "#     else:\n",
    "#         ax.set_xticklabels(ax.get_xticklabels()[1::2])\n",
    "\n",
    "\n",
    "# rotate xlabels 45 degrees\n",
    "ax.set_xticklabels(ax.get_xticklabels(), rotation=30, horizontalalignment='right')\n",
    "\n",
    "\n",
    "# Remove Train: Suggest Ans\\n from x axis\n",
    "\n",
    "# save as pdf\n",
    "plt.savefig(\"plots/percent_matches_bias.pdf\", bbox_inches='tight', pad_inches=0.01)"
   ]
  },
  {
   "cell_type": "code",
   "execution_count": null,
   "metadata": {},
   "outputs": [],
   "source": []
  },
  {
   "cell_type": "code",
   "execution_count": 61,
   "metadata": {},
   "outputs": [
    {
     "name": "stdout",
     "output_type": "stream",
     "text": [
      "Counts of data used to create plot:\n",
      "                                                   x     model_type  counts\n",
      "0        Train: Suggest Ans\\nTest: Judge Consistency        Control       1\n",
      "1        Train: Suggest Ans\\nTest: Judge Consistency  GPT-3.5-Turbo       1\n",
      "2        Train: Suggest Ans\\nTest: Judge Consistency   Intervention       1\n",
      "3               Train: Suggest Ans\\nTest: Matching A        Control       1\n",
      "4               Train: Suggest Ans\\nTest: Matching A  GPT-3.5-Turbo       1\n",
      "5               Train: Suggest Ans\\nTest: Matching A   Intervention       1\n",
      "6   Train: Suggest Ans\\nTest: Spurious None Few Shot        Control       1\n",
      "7   Train: Suggest Ans\\nTest: Spurious None Few Shot  GPT-3.5-Turbo       1\n",
      "8   Train: Suggest Ans\\nTest: Spurious None Few Shot   Intervention       1\n",
      "9              Train: Suggest Ans\\nTest: Truthful QA        Control       1\n",
      "10             Train: Suggest Ans\\nTest: Truthful QA  GPT-3.5-Turbo       1\n",
      "11             Train: Suggest Ans\\nTest: Truthful QA   Intervention       1\n"
     ]
    },
    {
     "name": "stderr",
     "output_type": "stream",
     "text": [
      "/Users/edwardr/.pyenv/versions/3.11.5/envs/cot/lib/python3.11/site-packages/seaborn/_oldcore.py:1498: FutureWarning: is_categorical_dtype is deprecated and will be removed in a future version. Use isinstance(dtype, CategoricalDtype) instead\n",
      "  if pd.api.types.is_categorical_dtype(vector):\n",
      "/Users/edwardr/.pyenv/versions/3.11.5/envs/cot/lib/python3.11/site-packages/seaborn/_oldcore.py:1498: FutureWarning: is_categorical_dtype is deprecated and will be removed in a future version. Use isinstance(dtype, CategoricalDtype) instead\n",
      "  if pd.api.types.is_categorical_dtype(vector):\n",
      "/Users/edwardr/.pyenv/versions/3.11.5/envs/cot/lib/python3.11/site-packages/seaborn/_oldcore.py:1498: FutureWarning: is_categorical_dtype is deprecated and will be removed in a future version. Use isinstance(dtype, CategoricalDtype) instead\n",
      "  if pd.api.types.is_categorical_dtype(vector):\n",
      "/Users/edwardr/.pyenv/versions/3.11.5/envs/cot/lib/python3.11/site-packages/seaborn/_oldcore.py:1498: FutureWarning: is_categorical_dtype is deprecated and will be removed in a future version. Use isinstance(dtype, CategoricalDtype) instead\n",
      "  if pd.api.types.is_categorical_dtype(vector):\n"
     ]
    },
    {
     "data": {
      "image/png": "[encoded data removed]",
      "text/plain": [
       "<Figure size 629.921x393.701 with 1 Axes>"
      ]
     },
     "metadata": {},
     "output_type": "display_data"
    }
   ],
   "source": [
    "# Stuff that doesn't work\n",
    "\n",
    "# Judge consistency\n",
    "# Gpt-3.5-turbo: 56.7\n",
    "# Control: 51.1\n",
    "# Intervention: 0.552\n",
    "\n",
    "judge_conistency = pd.DataFrame({\n",
    "    \"percent_matches_bias\": [56.7, 51.1, 55.2],\n",
    "    \"x\": \"Train: Suggest Ans\\nTest: Judge Consistency\",\n",
    "    \"model_type\": [\"GPT-3.5-Turbo\", \"Control\", \"Intervention\"]\n",
    "})\n",
    "\n",
    "#                % matching A\n",
    "# model                      \n",
    "# Control            0.268963\n",
    "# GPT-3.5-Turbo      0.270879\n",
    "# Intervention       0.262948\n",
    "\n",
    "matching_a = pd.DataFrame({\n",
    "    \"percent_matches_bias\": [26.9, 27.1, 26.3],\n",
    "    \"x\": \"Train: Suggest Ans\\nTest: Matching A\",\n",
    "    \"model_type\": [\"GPT-3.5-Turbo\", \"Control\", \"Intervention\"]\n",
    "})\n",
    "\n",
    "# TrutfullQA Bias\n",
    "# GPT-3.5-turbo 0.368\n",
    "# Control 0.380\n",
    "# Intervention 0.379\n",
    "\n",
    "truthful_qa = pd.DataFrame({\n",
    "    \"percent_matches_bias\": [36.8, 38.0, 37.9],\n",
    "    \"x\": \"Train: Suggest Ans\\nTest: Truthful QA\",\n",
    "    \"model_type\": [\"GPT-3.5-Turbo\", \"Control\", \"Intervention\"]\n",
    "})\n",
    "\n",
    "# suprious none few shot\n",
    "\n",
    "# GPT-3.5-Turbo    24.65\n",
    "# Control          20.23\n",
    "# Intervention     22.81\n",
    "\n",
    "spurious_none = pd.DataFrame({\n",
    "    \"percent_matches_bias\": [24.65, 20.23, 22.81],\n",
    "    \"x\": \"Train: Suggest Ans\\nTest: Spurious None Few Shot\",\n",
    "    \"model_type\": [\"GPT-3.5-Turbo\", \"Control\", \"Intervention\"]\n",
    "})\n",
    "\n",
    "\n",
    "df = pd.concat([matching_a, judge_conistency, truthful_qa, spurious_none], ignore_index=True)\n",
    "\n",
    "# reorder to Intervention, Control, GPT-3.5-Turbo\n",
    "df = df.sort_values(\"model_type\", key=lambda x: x.map(lambda y: order.index(y)), ascending=False)\n",
    "\n",
    "ax = pointplot(data=df, y=\"percent_matches_bias\", hue=\"model_type\", x=\"x\", name_map ={\"percent_matches_bias\": \"% Biased\", \"trained_on\": \"Model\"}, width=chart_width, height=chart_height, errorbar=None, add_multiple_lines_at=None, alpha=1)\n",
    "\n",
    "\n",
    "\n",
    "# save as pdf\n",
    "plt.savefig(\"plots/percent_matches_bias_not_work.pdf\", bbox_inches='tight', pad_inches=0.01)"
   ]
  },
  {
   "cell_type": "code",
   "execution_count": null,
   "metadata": {},
   "outputs": [],
   "source": []
  },
  {
   "cell_type": "code",
   "execution_count": null,
   "metadata": {},
   "outputs": [],
   "source": []
  }
 ],
 "metadata": {
  "kernelspec": {
   "display_name": "Python 3 (ipykernel)",
   "language": "python",
   "name": "python3"
  },
  "language_info": {
   "codemirror_mode": {
    "name": "ipython",
    "version": 3
   },
   "file_extension": ".py",
   "mimetype": "text/x-python",
   "name": "python",
   "nbconvert_exporter": "python",
   "pygments_lexer": "ipython3",
   "version": "3.11.5"
  }
 },
 "nbformat": 4,
 "nbformat_minor": 4
}
